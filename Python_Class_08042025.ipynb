{
 "cells": [
  {
   "cell_type": "code",
   "execution_count": 0,
   "metadata": {
    "application/vnd.databricks.v1+cell": {
     "cellMetadata": {
      "byteLimit": 2048000,
      "rowLimit": 10000
     },
     "inputWidgets": {},
     "nuid": "0eb8b0f5-22cc-494e-93db-14f25e4ff36e",
     "showTitle": true,
     "tableResultSettingsMap": {},
     "title": "Print Hello World Statement"
    }
   },
   "outputs": [],
   "source": [
    "print(\"Hello World\")"
   ]
  },
  {
   "cell_type": "code",
   "execution_count": 0,
   "metadata": {
    "application/vnd.databricks.v1+cell": {
     "cellMetadata": {
      "byteLimit": 2048000,
      "rowLimit": 10000
     },
     "inputWidgets": {},
     "nuid": "92f9928c-1c5c-4a2e-adf2-2a5ea7b3b843",
     "showTitle": true,
     "tableResultSettingsMap": {},
     "title": "Display and Concatenate String Variables"
    }
   },
   "outputs": [],
   "source": [
    "#program to display values of a variable in Python\n",
    "message1=\"Hi this is my first program\"\n",
    "print(message1)\n",
    "message2=\"Hi this 2nd message\"\n",
    "print(message2)\n",
    "print(type(message2))\n",
    "print(message1+message2)"
   ]
  },
  {
   "cell_type": "code",
   "execution_count": 0,
   "metadata": {
    "application/vnd.databricks.v1+cell": {
     "cellMetadata": {
      "byteLimit": 2048000,
      "rowLimit": 10000
     },
     "inputWidgets": {},
     "nuid": "a7d9a59f-bad0-447b-ba74-a0ac52897fc6",
     "showTitle": true,
     "tableResultSettingsMap": {},
     "title": "User Number Assignment and Print Statement"
    }
   },
   "outputs": [],
   "source": [
    "# ...existing code...\n",
    "UserNo=258623\n",
    "print('My UserNo is', UserNo)"
   ]
  },
  {
   "cell_type": "code",
   "execution_count": 0,
   "metadata": {
    "application/vnd.databricks.v1+cell": {
     "cellMetadata": {
      "byteLimit": 2048000,
      "rowLimit": 10000
     },
     "inputWidgets": {},
     "nuid": "fe096e53-0b49-4f2e-b95a-dc51db596fff",
     "showTitle": true,
     "tableResultSettingsMap": {},
     "title": "Calculate Area of a Rectangle"
    }
   },
   "outputs": [],
   "source": [
    "length=10\n",
    "breadth=20\n",
    "area = length * breadth\n",
    "print(area)"
   ]
  },
  {
   "cell_type": "code",
   "execution_count": 0,
   "metadata": {
    "application/vnd.databricks.v1+cell": {
     "cellMetadata": {
      "byteLimit": 2048000,
      "rowLimit": 10000
     },
     "inputWidgets": {},
     "nuid": "040a207a-1589-4321-9807-c6c02c4f2922",
     "showTitle": true,
     "tableResultSettingsMap": {},
     "title": "Sum of Length and Breadth Calculation"
    }
   },
   "outputs": [],
   "source": [
    "result = length + breadth\n",
    "print(result)\n",
    "print(type(result))"
   ]
  },
  {
   "cell_type": "code",
   "execution_count": 0,
   "metadata": {
    "application/vnd.databricks.v1+cell": {
     "cellMetadata": {
      "byteLimit": 2048000,
      "rowLimit": 10000
     },
     "inputWidgets": {},
     "nuid": "3863b321-5399-4669-860b-615237615032",
     "showTitle": true,
     "tableResultSettingsMap": {},
     "title": "List Example with Integer, Float, and String"
    }
   },
   "outputs": [],
   "source": [
    "#list\n",
    "list1=[2,9.12,\"Telangana\",39,12]\n",
    "print(list1)\n",
    "print(type(list1))\n",
    "print(list1[0])"
   ]
  },
  {
   "cell_type": "code",
   "execution_count": 0,
   "metadata": {
    "application/vnd.databricks.v1+cell": {
     "cellMetadata": {
      "byteLimit": 2048000,
      "rowLimit": 10000
     },
     "inputWidgets": {},
     "nuid": "3aeecd15-a488-42df-a74e-26f5d91016d1",
     "showTitle": false,
     "tableResultSettingsMap": {},
     "title": ""
    }
   },
   "outputs": [],
   "source": [
    "### **Datatypes**\n",
    "'''\n",
    "Python has several built-in data types, including:\n",
    "int: Integer numbers (e.g., 5, -10)\n",
    "float: Decimal numbers (e.g., 3.14, -0.5)\n",
    "str: Strings (text) (e.g., \"Hello\", 'Python')\n",
    "bool: Boolean values (True, False)\n",
    "list: Ordered, mutable collection (e.g., [1, 2, 3])\n",
    "tuple: Ordered, immutable collection (e.g., (1, 2, 3))\n",
    "dict: Key-value pairs (e.g., {\"name\": \"Alice\", \"age\": 25})\n",
    "set: Unordered collection of unique items (e.g., {1, 2, 3})\n",
    "'''"
   ]
  },
  {
   "cell_type": "code",
   "execution_count": 0,
   "metadata": {
    "application/vnd.databricks.v1+cell": {
     "cellMetadata": {
      "byteLimit": 2048000,
      "rowLimit": 10000
     },
     "inputWidgets": {},
     "nuid": "33e8fbbe-ca3d-4f38-92dd-8f02a4bc0b83",
     "showTitle": true,
     "tableResultSettingsMap": {},
     "title": "Integer, Float, and String Examples"
    }
   },
   "outputs": [],
   "source": [
    "#int\n",
    "num1=29\n",
    "print(num1)\n",
    "print(type(num1))\n",
    "print(\"----------------------------------\")\n",
    "#Float\n",
    "num2=29.12\n",
    "print(num2)\n",
    "print(type(num2))\n",
    "print(\"----------------------------------\")\n",
    "#string\n",
    "str1=\"Telangana\"\n",
    "print(str1)\n",
    "print(type(str1))\n",
    "print(\"----------------------------------\")"
   ]
  },
  {
   "cell_type": "markdown",
   "metadata": {
    "application/vnd.databricks.v1+cell": {
     "cellMetadata": {
      "byteLimit": 2048000,
      "rowLimit": 10000
     },
     "inputWidgets": {},
     "nuid": "d4fbb8ea-f6af-4d1a-b7f3-d5b9851f9304",
     "showTitle": false,
     "tableResultSettingsMap": {},
     "title": ""
    }
   },
   "source": []
  },
  {
   "cell_type": "code",
   "execution_count": 0,
   "metadata": {
    "application/vnd.databricks.v1+cell": {
     "cellMetadata": {
      "byteLimit": 2048000,
      "rowLimit": 10000
     },
     "inputWidgets": {},
     "nuid": "6b3e5f2e-2b1c-471b-9ad7-641afe09a741",
     "showTitle": true,
     "tableResultSettingsMap": {},
     "title": "List"
    }
   },
   "outputs": [],
   "source": [
    "list1=[2,9.12,\"Telangana\",39,12]\n",
    "print(list1)\n",
    "print(type(list1))\n",
    "#extracting 1st element\n",
    "FirstElement =list1[0]\n",
    "SecondElement =list1[1]\n",
    "ThirdElement =list1[2]\n",
    "print(\"First Element is\",FirstElement,\"||\",\"Second Element is\",SecondElement,\"||\",\"Third Element is\",ThirdElement)"
   ]
  },
  {
   "cell_type": "code",
   "execution_count": 0,
   "metadata": {
    "application/vnd.databricks.v1+cell": {
     "cellMetadata": {
      "byteLimit": 2048000,
      "rowLimit": 10000
     },
     "inputWidgets": {},
     "nuid": "28e45f71-97b7-4e17-bd41-4cee58c3a2eb",
     "showTitle": true,
     "tableResultSettingsMap": {},
     "title": "tuple"
    }
   },
   "outputs": [],
   "source": [
    "tuple1=(2,9.12,\"Telangana\",39,1.2)\n",
    "print(tuple1)\n",
    "print(type(tuple1))\n",
    "#extracting1 element\n",
    "FirstElement =tuple1[0]\n",
    "SecondElement =tuple1[1]\n",
    "ThirdElement =tuple1[2]\n",
    "print(\"First Tuple is\",FirstElement,\"||\",\"Second Tuple is\",SecondElement,\"||\",\"Third Tuple is\",ThirdElement)"
   ]
  },
  {
   "cell_type": "code",
   "execution_count": 0,
   "metadata": {
    "application/vnd.databricks.v1+cell": {
     "cellMetadata": {
      "byteLimit": 2048000,
      "rowLimit": 10000
     },
     "inputWidgets": {},
     "nuid": "8634e100-2714-4ba1-aa27-ba9c063f44e6",
     "showTitle": true,
     "tableResultSettingsMap": {},
     "title": "Extract and Print Dictionary Values"
    }
   },
   "outputs": [],
   "source": [
    "dict={'Fruit':'Apple','Climate':'Tropical','Price(kg)':300}\n",
    "print(dict)\n",
    "print(type(dict))\n",
    "# Extracting the values from dict\n",
    "fruitvalue=dict['Fruit']\n",
    "climatevalue=dict['Climate']\n",
    "pricevalue=dict['Price(kg)']\n",
    "print(\"Fruit is\",fruitvalue,\"||\",\"Climate is\",climatevalue,\"||\",\"Price is\",pricevalue)"
   ]
  },
  {
   "cell_type": "code",
   "execution_count": 0,
   "metadata": {
    "application/vnd.databricks.v1+cell": {
     "cellMetadata": {
      "byteLimit": 2048000,
      "rowLimit": 10000
     },
     "inputWidgets": {},
     "nuid": "4451937e-f583-44de-bdc8-637209236058",
     "showTitle": true,
     "tableResultSettingsMap": {},
     "title": "Extract and Print Dictionary Values"
    }
   },
   "outputs": [],
   "source": [
    "# Define the dictionary\n",
    "dict1 = {'Fruit': 'Apple', 'Climate': 'Tropical', 'Price(kg)': 300}\n",
    "print(type(dict1))\n",
    "# Extracting values for specific keys\n",
    "fruit_value = dict1['Fruit']\n",
    "climate_value = dict1['Climate']\n",
    "price_value = dict1['Price(kg)']\n",
    "\n",
    "# Print the extracted values\n",
    "print(\"Fruit is\", fruit_value, \"||\", \"Climate is\", climate_value, \"||\", \"Price is\", price_value)"
   ]
  },
  {
   "cell_type": "code",
   "execution_count": 0,
   "metadata": {
    "application/vnd.databricks.v1+cell": {
     "cellMetadata": {
      "byteLimit": 2048000,
      "rowLimit": 10000
     },
     "inputWidgets": {},
     "nuid": "b1c4ae0c-b7a6-4f95-a5cc-9dee8793d515",
     "showTitle": true,
     "tableResultSettingsMap": {},
     "title": "Set Example with Integer, Float, and String"
    }
   },
   "outputs": [],
   "source": [
    "set={10,20,3.14,\"chennai\"}\n",
    "print(type(set))\n",
    "print(set)"
   ]
  },
  {
   "cell_type": "code",
   "execution_count": 0,
   "metadata": {
    "application/vnd.databricks.v1+cell": {
     "cellMetadata": {
      "byteLimit": 2048000,
      "rowLimit": 10000
     },
     "inputWidgets": {},
     "nuid": "51b04289-2638-4467-b33d-164cfadd26c8",
     "showTitle": true,
     "tableResultSettingsMap": {},
     "title": "Extract and Print Set Elements in Python"
    }
   },
   "outputs": [],
   "source": [
    "'''\n",
    "Sets in Python are unordered collections and do not support indexing or key-based access. \n",
    "To extract values from a set, you can iterate over its elements or convert it to a list or tuple.\n",
    "Define the set\n",
    "'''\n",
    "my_set = {10, 20, 3.14, \"chennai\"}\n",
    "print(type(my_set))\n",
    "print(my_set)\n",
    "\n",
    "# Iterate over set elements\n",
    "for value in my_set:\n",
    "    print(value)\n",
    "\n",
    "# Or convert to a list to access by index\n",
    "set_list = list(my_set)\n",
    "first_element = set_list[0]\n",
    "print(\"First element:\", first_element)"
   ]
  },
  {
   "cell_type": "code",
   "execution_count": 0,
   "metadata": {
    "application/vnd.databricks.v1+cell": {
     "cellMetadata": {
      "byteLimit": 2048000,
      "rowLimit": 10000
     },
     "inputWidgets": {},
     "nuid": "737e2513-ffa6-416b-a16f-ff9665566e87",
     "showTitle": true,
     "tableResultSettingsMap": {},
     "title": "Set and Tuple Differences with Examples"
    }
   },
   "outputs": [],
   "source": [
    "'''\n",
    "Sets and tuples in Python have several key differences beyond just the braces used to define them:\n",
    "\n",
    "Mutability:\n",
    "Set: Mutable, meaning you can add or remove elements after the set has been created.\n",
    "Tuple: Immutable, meaning once a tuple is created, you cannot change its elements.\n",
    "\n",
    "Order:\n",
    "Set: Unordered, meaning the elements do not have a defined order, and you cannot access elements by index.\n",
    "Tuple: Ordered, meaning the elements have a defined order, and you can access elements by index.\n",
    "\n",
    "Duplicates:\n",
    "Set: Does not allow duplicate elements. Each element must be unique.\n",
    "Tuple: Allows duplicate elements.\n",
    "\n",
    "Usage:\n",
    "Set: Typically used for membership testing and eliminating duplicate entries.\n",
    "Tuple: Typically used to store a collection of items that should not change throughout the program.\n",
    "'''\n",
    "# Define a set\n",
    "my_set ={10,20,3.14,\"Guntur\",10}\n",
    "print(type(my_set))\n",
    "#Duplicate '10' will be removed\n",
    "print(\"Set : \",my_set)\n",
    "print(\"\\n\")\n",
    "\n",
    "# Define a tuple\n",
    "my_tuple =(10,20,3.14,\"Guntur\",10)\n",
    "print(type(my_tuple))\n",
    "print(\"Tuple :\", my_tuple)\n"
   ]
  },
  {
   "cell_type": "code",
   "execution_count": 0,
   "metadata": {
    "application/vnd.databricks.v1+cell": {
     "cellMetadata": {
      "byteLimit": 2048000,
      "rowLimit": 10000
     },
     "inputWidgets": {},
     "nuid": "89aa48c8-3e48-4f4c-beaf-f9e3b1a89e08",
     "showTitle": true,
     "tableResultSettingsMap": {},
     "title": "Add and Remove Elements from a Set"
    }
   },
   "outputs": [],
   "source": [
    "# Attempt to add an element to the set\n",
    "my_set.add(40)\n",
    "print(\"set after adding element\", my_set)\n",
    "\n",
    "# Remove a value from the set\n",
    "my_set.remove(20)\n",
    "print(\"set after removing element\", my_set)"
   ]
  },
  {
   "cell_type": "code",
   "execution_count": 0,
   "metadata": {
    "application/vnd.databricks.v1+cell": {
     "cellMetadata": {
      "byteLimit": 2048000,
      "rowLimit": 10000
     },
     "inputWidgets": {},
     "nuid": "f4f99674-d15f-4f54-91d3-7a31b8816e9e",
     "showTitle": true,
     "tableResultSettingsMap": {},
     "title": "Tuple Modification Error Demonstration"
    }
   },
   "outputs": [],
   "source": [
    "'''\n",
    "Attempt to add an element to the tuple (will raise an error)\n",
    "my_tuple[0] = 30  # Uncommenting this line will raise a TypeError\n",
    "'''\n",
    "#my_tuple.add(40)\n",
    "#print(\"Tuple after adding element\",my_tuple)\n",
    "\n",
    "#my_tuple.remove(20)\n",
    "'''\n",
    "to remove value from Tuple , convert ti list and then convert back to tuple\n",
    "'''\n",
    "my_tuple = list(my_tuple); my_tuple.remove(20); my_tuple = tuple(my_tuple)\n",
    "print(\"Tuple after removing element\",my_tuple)"
   ]
  },
  {
   "cell_type": "code",
   "execution_count": 0,
   "metadata": {
    "application/vnd.databricks.v1+cell": {
     "cellMetadata": {
      "byteLimit": 2048000,
      "rowLimit": 10000
     },
     "inputWidgets": {},
     "nuid": "d96bdb7a-1bf5-4674-9b35-7754ad741c74",
     "showTitle": true,
     "tableResultSettingsMap": {},
     "title": "Iterate and Print Set Elements"
    }
   },
   "outputs": [],
   "source": [
    "'''\n",
    "Accessing elements\n",
    "Set (cannot access by index)\n",
    "'''\n",
    "for value in my_set:\n",
    "    print(value)\n",
    "\n",
    "print(\"\\n\")\n",
    "# Tuple (can access by index)\n",
    "print(\"First element of tuple:\", my_tuple[0])"
   ]
  },
  {
   "cell_type": "code",
   "execution_count": 0,
   "metadata": {
    "application/vnd.databricks.v1+cell": {
     "cellMetadata": {
      "byteLimit": 2048000,
      "rowLimit": 10000
     },
     "inputWidgets": {},
     "nuid": "cf2be001-3f94-49d9-8be5-9be6634b4254",
     "showTitle": true,
     "tableResultSettingsMap": {},
     "title": "Unordered Collection in Python"
    }
   },
   "outputs": [],
   "source": [
    "'''\n",
    "Sets in Python are unordered collections, meaning that the elements do not have a defined order. \n",
    "When you print a set or iterate over its elements, the order in which the elements appear can be different from the order in which they were added. This is because sets are implemented using hash tables, which do not maintain any order.\n",
    "'''\n",
    "my_set={10,20,30,60,0.5,\"Siri\"}\n",
    "print(type(my_set))\n",
    "print(my_set)\n",
    "print(\"\\n\")\n",
    "\n",
    "#convert set to list\n",
    "set_list=list(my_set)\n",
    "print(type(set_list))\n",
    "print(set_list)\n",
    "print(\"\\n\")\n",
    "\n",
    "\n",
    "#sort the list\n",
    "# Imp : Note that sorting mixed data types (e.g., integers and strings) may require a custom sorting key, such as key=str, to avoid errors.\n",
    "#set_list.sort() # this will throw error\n",
    "set_list.sort(key=str)# Using key=str to handle mixed data types\n",
    "print(\"Sorted list:\", set_list) # Print the sorted list"
   ]
  },
  {
   "cell_type": "markdown",
   "metadata": {
    "application/vnd.databricks.v1+cell": {
     "cellMetadata": {
      "byteLimit": 2048000,
      "rowLimit": 10000
     },
     "inputWidgets": {},
     "nuid": "55e29946-247c-4965-bb5f-2d55180d9295",
     "showTitle": false,
     "tableResultSettingsMap": {},
     "title": ""
    }
   },
   "source": [
    "> ### More detailed example of Lists[], Sets{}, tuple()"
   ]
  },
  {
   "cell_type": "code",
   "execution_count": 0,
   "metadata": {
    "application/vnd.databricks.v1+cell": {
     "cellMetadata": {
      "byteLimit": 2048000,
      "rowLimit": 10000
     },
     "inputWidgets": {},
     "nuid": "11d6d8e8-2011-427f-b53a-01d51f0c7681",
     "showTitle": true,
     "tableResultSettingsMap": {},
     "title": "Characteristics of Python Lists"
    }
   },
   "outputs": [],
   "source": [
    "'''\n",
    "Lists []\n",
    "Mutable: You can change, add, or remove elements.\n",
    "Ordered: Elements have a defined order, and you can access elements by index.\n",
    "Allows Duplicates: Can contain duplicate elements.\n",
    "'''\n",
    "#Define List\n",
    "my_list = [10,20,30,40,10,'Mango',10.3,0.001]\n",
    "print(type(my_list))\n",
    "print(\"---------------------\")\n",
    "\n",
    "#Access element by index\n",
    "print(\"first element\",my_list[0])\n",
    "print(\"sixth element\",my_list[5])\n",
    "print(\"---------------------\")\n",
    "\n",
    "#modify the list\n",
    "my_list[0]=100\n",
    "my_list[5]='Apple'\n",
    "print(my_list)\n",
    "print(\"---------------------\")\n",
    "\n",
    "#add an element in list\n",
    "#my_list.add(39) #this will throw error\n",
    "my_list.append(39)\n",
    "print(my_list)\n",
    "\n",
    "# Remove an element\n",
    "my_list.remove(10)\n",
    "print(\"List after removing an element:\", my_list)"
   ]
  },
  {
   "cell_type": "code",
   "execution_count": 0,
   "metadata": {
    "application/vnd.databricks.v1+cell": {
     "cellMetadata": {
      "byteLimit": 2048000,
      "rowLimit": 10000
     },
     "inputWidgets": {},
     "nuid": "63cab102-8205-4d37-bdd6-a747f8a2e00c",
     "showTitle": true,
     "tableResultSettingsMap": {},
     "title": "Characteristics of Python Sets"
    }
   },
   "outputs": [],
   "source": [
    "'''\n",
    "Sets {}\n",
    "Mutable: You can add or remove elements.\n",
    "Unordered: Elements do not have a defined order, and you cannot access elements by index.\n",
    "No Duplicates: Cannot contain duplicate elements.\n",
    "'''\n",
    "my_set={10,20,30,40,10,'Mango',10.3,0.001}# Duplicate '10' will be removed\n",
    "print(type(my_set))\n",
    "print(\"set :\" , my_set)\n",
    "\n",
    "# Add an element\n",
    "my_set.add(39)\n",
    "print(\"set :\" , my_set)\n",
    "\n",
    "#Remove an element\n",
    "my_set.remove(40)\n",
    "print(\"set :\" , my_set)\n",
    "\n",
    "# Iterate over set elements\n",
    "for value in my_set:\n",
    "    print(value)\n"
   ]
  },
  {
   "cell_type": "code",
   "execution_count": 0,
   "metadata": {
    "application/vnd.databricks.v1+cell": {
     "cellMetadata": {
      "byteLimit": 2048000,
      "rowLimit": 10000
     },
     "inputWidgets": {},
     "nuid": "c74314f5-3bdb-4df6-9787-8020a4bac65f",
     "showTitle": true,
     "tableResultSettingsMap": {},
     "title": "Tuple Characteristics and Properties Overview"
    }
   },
   "outputs": [],
   "source": [
    "'''\n",
    "Tuples\n",
    "Immutable: You cannot change, add, or remove elements after the tuple is created.\n",
    "Ordered: Elements have a defined order, and you can access elements by index.\n",
    "Allows Duplicates: Can contain duplicate elements.\n",
    "'''\n",
    "my_tuple=(10,20,30,40,10,'Mango',10.3,0.001)\n",
    "print(type(my_tuple))\n",
    "print(\"tuple :\", my_tuple)\n",
    "\n",
    "#access tuple by index\n",
    "print(\"first element :\", my_tuple[0])\n",
    "print(\"sixth element :\", my_tuple[5])\n"
   ]
  },
  {
   "cell_type": "code",
   "execution_count": 0,
   "metadata": {
    "application/vnd.databricks.v1+cell": {
     "cellMetadata": {
      "byteLimit": 2048000,
      "rowLimit": 10000
     },
     "inputWidgets": {},
     "nuid": "21db43a7-a9d2-4e0e-9f0d-3d33dfcbb3b0",
     "showTitle": true,
     "tableResultSettingsMap": {},
     "title": "frozenset : Immutable Set Example and Error Handling"
    }
   },
   "outputs": [],
   "source": [
    "'''\n",
    "frozenset\n",
    "A frozenset is an immutable version of a Python set. Unlike regular sets, you cannot modify a frozenset after it is created, meaning you cannot add or remove elements. \n",
    "However, it retains the properties of a set, such as being unordered and not allowing duplicate elements.\n",
    "'''\n",
    "\n",
    "set2=frozenset({10,20,30,40,10,'Mango',10.3,0.001})\n",
    "print(type(set2))\n",
    "print(set2)\n",
    "print(\"\\n\")\n",
    "\n",
    "# Attempting to add or remove elements will raise an error\n",
    "try:\n",
    "    set2.add(64)\n",
    "except AttributeError as e:\n",
    "    print(e)\n",
    "try:\n",
    "    set2.remove(30)\n",
    "except AttributeError as e:\n",
    "    print(e)\n",
    "\n",
    "print(\"\\n\")\n",
    "\n",
    "# You can perform set operations like union, intersection, and difference\n",
    "set3=frozenset({'Apple','Banana','Orange','Mango',30,10})\n",
    "print(set2.union(set3))\n",
    "print(set2.intersection(set3))\n",
    "print(set2.difference(set3))\n"
   ]
  },
  {
   "cell_type": "code",
   "execution_count": 0,
   "metadata": {
    "application/vnd.databricks.v1+cell": {
     "cellMetadata": {
      "byteLimit": 2048000,
      "rowLimit": 10000
     },
     "inputWidgets": {},
     "nuid": "472a75c5-a595-48ac-a55f-ec92b2951db4",
     "showTitle": false,
     "tableResultSettingsMap": {},
     "title": ""
    }
   },
   "outputs": [],
   "source": []
  }
 ],
 "metadata": {
  "application/vnd.databricks.v1+notebook": {
   "computePreferences": {
    "hardware": {
     "accelerator": null,
     "gpuPoolId": null,
     "memory": null
    }
   },
   "dashboards": [],
   "environmentMetadata": {
    "base_environment": "",
    "environment_version": "3"
   },
   "inputWidgetPreferences": null,
   "language": "python",
   "notebookMetadata": {
    "pythonIndentUnit": 4
   },
   "notebookName": "Python_Class_08042025",
   "widgets": {}
  },
  "language_info": {
   "name": "python"
  }
 },
 "nbformat": 4,
 "nbformat_minor": 0
}
