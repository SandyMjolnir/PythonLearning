{
 "cells": [
  {
   "cell_type": "code",
   "execution_count": 0,
   "metadata": {
    "application/vnd.databricks.v1+cell": {
     "cellMetadata": {
      "byteLimit": 2048000,
      "rowLimit": 10000
     },
     "inputWidgets": {},
     "nuid": "0eb8b0f5-22cc-494e-93db-14f25e4ff36e",
     "showTitle": true,
     "tableResultSettingsMap": {},
     "title": "Print Hello World Statement"
    }
   },
   "outputs": [],
   "source": [
    "print(\"Hello World\")"
   ]
  },
  {
   "cell_type": "code",
   "execution_count": 0,
   "metadata": {
    "application/vnd.databricks.v1+cell": {
     "cellMetadata": {
      "byteLimit": 2048000,
      "rowLimit": 10000
     },
     "inputWidgets": {},
     "nuid": "92f9928c-1c5c-4a2e-adf2-2a5ea7b3b843",
     "showTitle": true,
     "tableResultSettingsMap": {},
     "title": "Display and Concatenate String Variables"
    }
   },
   "outputs": [],
   "source": [
    "#program to display values of a variable in Python\n",
    "message1=\"Hi this is my first program\"\n",
    "print(message1)\n",
    "message2=\"Hi this 2nd message\"\n",
    "print(message2)\n",
    "print(type(message2))\n",
    "print(message1+message2)"
   ]
  },
  {
   "cell_type": "code",
   "execution_count": 0,
   "metadata": {
    "application/vnd.databricks.v1+cell": {
     "cellMetadata": {
      "byteLimit": 2048000,
      "rowLimit": 10000
     },
     "inputWidgets": {},
     "nuid": "a7d9a59f-bad0-447b-ba74-a0ac52897fc6",
     "showTitle": true,
     "tableResultSettingsMap": {},
     "title": "User Number Assignment and Print Statement"
    }
   },
   "outputs": [],
   "source": [
    "# ...existing code...\n",
    "UserNo=258623\n",
    "print('My UserNo is', UserNo)"
   ]
  },
  {
   "cell_type": "code",
   "execution_count": 0,
   "metadata": {
    "application/vnd.databricks.v1+cell": {
     "cellMetadata": {
      "byteLimit": 2048000,
      "rowLimit": 10000
     },
     "inputWidgets": {},
     "nuid": "fe096e53-0b49-4f2e-b95a-dc51db596fff",
     "showTitle": true,
     "tableResultSettingsMap": {},
     "title": "Calculate Area of a Rectangle"
    }
   },
   "outputs": [],
   "source": [
    "length=10\n",
    "breadth=20\n",
    "area = length * breadth\n",
    "print(area)"
   ]
  },
  {
   "cell_type": "code",
   "execution_count": 0,
   "metadata": {
    "application/vnd.databricks.v1+cell": {
     "cellMetadata": {
      "byteLimit": 2048000,
      "rowLimit": 10000
     },
     "inputWidgets": {},
     "nuid": "040a207a-1589-4321-9807-c6c02c4f2922",
     "showTitle": true,
     "tableResultSettingsMap": {},
     "title": "Sum of Length and Breadth Calculation"
    }
   },
   "outputs": [],
   "source": [
    "result = length + breadth\n",
    "print(result)\n",
    "print(type(result))"
   ]
  },
  {
   "cell_type": "code",
   "execution_count": 0,
   "metadata": {
    "application/vnd.databricks.v1+cell": {
     "cellMetadata": {
      "byteLimit": 2048000,
      "rowLimit": 10000
     },
     "inputWidgets": {},
     "nuid": "3863b321-5399-4669-860b-615237615032",
     "showTitle": true,
     "tableResultSettingsMap": {},
     "title": "List Example with Integer, Float, and String"
    }
   },
   "outputs": [],
   "source": [
    "#list\n",
    "list1=[2,9.12,\"Telangana\",39,12]\n",
    "print(list1)\n",
    "print(type(list1))\n",
    "print(list1[0])"
   ]
  },
  {
   "cell_type": "code",
   "execution_count": 0,
   "metadata": {
    "application/vnd.databricks.v1+cell": {
     "cellMetadata": {
      "byteLimit": 2048000,
      "rowLimit": 10000
     },
     "inputWidgets": {},
     "nuid": "3aeecd15-a488-42df-a74e-26f5d91016d1",
     "showTitle": false,
     "tableResultSettingsMap": {},
     "title": ""
    }
   },
   "outputs": [],
   "source": [
    "### **Datatypes**\n",
    "'''\n",
    "Python has several built-in data types, including:\n",
    "int: Integer numbers (e.g., 5, -10)\n",
    "float: Decimal numbers (e.g., 3.14, -0.5)\n",
    "str: Strings (text) (e.g., \"Hello\", 'Python')\n",
    "bool: Boolean values (True, False)\n",
    "list: Ordered, mutable collection (e.g., [1, 2, 3])\n",
    "tuple: Ordered, immutable collection (e.g., (1, 2, 3))\n",
    "dict: Key-value pairs (e.g., {\"name\": \"Alice\", \"age\": 25})\n",
    "set: Unordered collection of unique items (e.g., {1, 2, 3})\n",
    "'''"
   ]
  },
  {
   "cell_type": "code",
   "execution_count": 0,
   "metadata": {
    "application/vnd.databricks.v1+cell": {
     "cellMetadata": {
      "byteLimit": 2048000,
      "rowLimit": 10000
     },
     "inputWidgets": {},
     "nuid": "33e8fbbe-ca3d-4f38-92dd-8f02a4bc0b83",
     "showTitle": true,
     "tableResultSettingsMap": {},
     "title": "Integer, Float, and String Examples"
    }
   },
   "outputs": [],
   "source": [
    "#int\n",
    "num1=29\n",
    "print(num1)\n",
    "print(type(num1))\n",
    "print(\"----------------------------------\")\n",
    "#Float\n",
    "num2=29.12\n",
    "print(num2)\n",
    "print(type(num2))\n",
    "print(\"----------------------------------\")\n",
    "#string\n",
    "str1=\"Telangana\"\n",
    "print(str1)\n",
    "print(type(str1))\n",
    "print(\"----------------------------------\")"
   ]
  },
  {
   "cell_type": "markdown",
   "metadata": {
    "application/vnd.databricks.v1+cell": {
     "cellMetadata": {
      "byteLimit": 2048000,
      "rowLimit": 10000
     },
     "inputWidgets": {},
     "nuid": "d4fbb8ea-f6af-4d1a-b7f3-d5b9851f9304",
     "showTitle": false,
     "tableResultSettingsMap": {},
     "title": ""
    }
   },
   "source": []
  },
  {
   "cell_type": "code",
   "execution_count": 0,
   "metadata": {
    "application/vnd.databricks.v1+cell": {
     "cellMetadata": {
      "byteLimit": 2048000,
      "rowLimit": 10000
     },
     "inputWidgets": {},
     "nuid": "6b3e5f2e-2b1c-471b-9ad7-641afe09a741",
     "showTitle": true,
     "tableResultSettingsMap": {},
     "title": "List"
    }
   },
   "outputs": [],
   "source": [
    "list1=[2,9.12,\"Telangana\",39,12]\n",
    "print(list1)\n",
    "print(type(list1))\n",
    "#extracting 1st element\n",
    "FirstElement =list1[0]\n",
    "SecondElement =list1[1]\n",
    "ThirdElement =list1[2]\n",
    "print(\"First Element is\",FirstElement,\"||\",\"Second Element is\",SecondElement,\"||\",\"Third Element is\",ThirdElement)"
   ]
  },
  {
   "cell_type": "code",
   "execution_count": 0,
   "metadata": {
    "application/vnd.databricks.v1+cell": {
     "cellMetadata": {
      "byteLimit": 2048000,
      "rowLimit": 10000
     },
     "inputWidgets": {},
     "nuid": "28e45f71-97b7-4e17-bd41-4cee58c3a2eb",
     "showTitle": true,
     "tableResultSettingsMap": {},
     "title": "tuple"
    }
   },
   "outputs": [],
   "source": [
    "tuple1=(2,9.12,\"Telangana\",39,1.2)\n",
    "print(tuple1)\n",
    "print(type(tuple1))\n",
    "#extracting1 element\n",
    "FirstElement =tuple1[0]\n",
    "SecondElement =tuple1[1]\n",
    "ThirdElement =tuple1[2]\n",
    "print(\"First Tuple is\",FirstElement,\"||\",\"Second Tuple is\",SecondElement,\"||\",\"Third Tuple is\",ThirdElement)"
   ]
  },
  {
   "cell_type": "code",
   "execution_count": 0,
   "metadata": {
    "application/vnd.databricks.v1+cell": {
     "cellMetadata": {
      "byteLimit": 2048000,
      "rowLimit": 10000
     },
     "inputWidgets": {},
     "nuid": "8634e100-2714-4ba1-aa27-ba9c063f44e6",
     "showTitle": true,
     "tableResultSettingsMap": {},
     "title": "Extract and Print Dictionary Values"
    }
   },
   "outputs": [],
   "source": [
    "dict={'Fruit':'Apple','Climate':'Tropical','Price(kg)':300}\n",
    "print(dict)\n",
    "print(type(dict))\n",
    "# Extracting the values from dict\n",
    "fruitvalue=dict['Fruit']\n",
    "climatevalue=dict['Climate']\n",
    "pricevalue=dict['Price(kg)']\n",
    "print(\"Fruit is\",fruitvalue,\"||\",\"Climate is\",climatevalue,\"||\",\"Price is\",pricevalue)"
   ]
  },
  {
   "cell_type": "code",
   "execution_count": 0,
   "metadata": {
    "application/vnd.databricks.v1+cell": {
     "cellMetadata": {
      "byteLimit": 2048000,
      "rowLimit": 10000
     },
     "inputWidgets": {},
     "nuid": "4451937e-f583-44de-bdc8-637209236058",
     "showTitle": true,
     "tableResultSettingsMap": {},
     "title": "Extract and Print Dictionary Values"
    }
   },
   "outputs": [],
   "source": [
    "# Define the dictionary\n",
    "dict1 = {'Fruit': 'Apple', 'Climate': 'Tropical', 'Price(kg)': 300}\n",
    "print(type(dict1))\n",
    "# Extracting values for specific keys\n",
    "fruit_value = dict1['Fruit']\n",
    "climate_value = dict1['Climate']\n",
    "price_value = dict1['Price(kg)']\n",
    "\n",
    "# Print the extracted values\n",
    "print(\"Fruit is\", fruit_value, \"||\", \"Climate is\", climate_value, \"||\", \"Price is\", price_value)"
   ]
  },
  {
   "cell_type": "code",
   "execution_count": 0,
   "metadata": {
    "application/vnd.databricks.v1+cell": {
     "cellMetadata": {
      "byteLimit": 2048000,
      "rowLimit": 10000
     },
     "inputWidgets": {},
     "nuid": "b1c4ae0c-b7a6-4f95-a5cc-9dee8793d515",
     "showTitle": true,
     "tableResultSettingsMap": {},
     "title": "Set Example with Integer, Float, and String"
    }
   },
   "outputs": [],
   "source": [
    "set={10,20,3.14,\"chennai\"}\n",
    "print(type(set))\n",
    "print(set)"
   ]
  },
  {
   "cell_type": "code",
   "execution_count": 0,
   "metadata": {
    "application/vnd.databricks.v1+cell": {
     "cellMetadata": {
      "byteLimit": 2048000,
      "rowLimit": 10000
     },
     "inputWidgets": {},
     "nuid": "51b04289-2638-4467-b33d-164cfadd26c8",
     "showTitle": true,
     "tableResultSettingsMap": {},
     "title": "Extract and Print Set Elements in Python"
    }
   },
   "outputs": [],
   "source": [
    "'''\n",
    "Sets in Python are unordered collections and do not support indexing or key-based access. \n",
    "To extract values from a set, you can iterate over its elements or convert it to a list or tuple.\n",
    "Define the set\n",
    "'''\n",
    "my_set = {10, 20, 3.14, \"chennai\"}\n",
    "print(type(my_set))\n",
    "print(my_set)\n",
    "\n",
    "# Iterate over set elements\n",
    "for value in my_set:\n",
    "    print(value)\n",
    "\n",
    "# Or convert to a list to access by index\n",
    "set_list = list(my_set)\n",
    "first_element = set_list[0]\n",
    "print(\"First element:\", first_element)"
   ]
  },
  {
   "cell_type": "code",
   "execution_count": 0,
   "metadata": {
    "application/vnd.databricks.v1+cell": {
     "cellMetadata": {
      "byteLimit": 2048000,
      "rowLimit": 10000
     },
     "inputWidgets": {},
     "nuid": "737e2513-ffa6-416b-a16f-ff9665566e87",
     "showTitle": true,
     "tableResultSettingsMap": {},
     "title": "Set and Tuple Differences with Examples"
    }
   },
   "outputs": [],
   "source": [
    "'''\n",
    "Sets and tuples in Python have several key differences beyond just the braces used to define them:\n",
    "\n",
    "Mutability:\n",
    "Set: Mutable, meaning you can add or remove elements after the set has been created.\n",
    "Tuple: Immutable, meaning once a tuple is created, you cannot change its elements.\n",
    "\n",
    "Order:\n",
    "Set: Unordered, meaning the elements do not have a defined order, and you cannot access elements by index.\n",
    "Tuple: Ordered, meaning the elements have a defined order, and you can access elements by index.\n",
    "\n",
    "Duplicates:\n",
    "Set: Does not allow duplicate elements. Each element must be unique.\n",
    "Tuple: Allows duplicate elements.\n",
    "\n",
    "Usage:\n",
    "Set: Typically used for membership testing and eliminating duplicate entries.\n",
    "Tuple: Typically used to store a collection of items that should not change throughout the program.\n",
    "'''\n",
    "# Define a set\n",
    "my_set ={10,20,3.14,\"Guntur\",10}\n",
    "print(type(my_set))\n",
    "#Duplicate '10' will be removed\n",
    "print(\"Set : \",my_set)\n",
    "print(\"\\n\")\n",
    "\n",
    "# Define a tuple\n",
    "my_tuple =(10,20,3.14,\"Guntur\",10)\n",
    "print(type(my_tuple))\n",
    "print(\"Tuple :\", my_tuple)\n"
   ]
  },
  {
   "cell_type": "code",
   "execution_count": 0,
   "metadata": {
    "application/vnd.databricks.v1+cell": {
     "cellMetadata": {
      "byteLimit": 2048000,
      "rowLimit": 10000
     },
     "inputWidgets": {},
     "nuid": "89aa48c8-3e48-4f4c-beaf-f9e3b1a89e08",
     "showTitle": true,
     "tableResultSettingsMap": {},
     "title": "Add and Remove Elements from a Set"
    }
   },
   "outputs": [],
   "source": [
    "# Attempt to add an element to the set\n",
    "my_set.add(40)\n",
    "print(\"set after adding element\", my_set)\n",
    "\n",
    "# Remove a value from the set\n",
    "my_set.remove(20)\n",
    "print(\"set after removing element\", my_set)"
   ]
  },
  {
   "cell_type": "code",
   "execution_count": 0,
   "metadata": {
    "application/vnd.databricks.v1+cell": {
     "cellMetadata": {
      "byteLimit": 2048000,
      "rowLimit": 10000
     },
     "inputWidgets": {},
     "nuid": "f4f99674-d15f-4f54-91d3-7a31b8816e9e",
     "showTitle": true,
     "tableResultSettingsMap": {},
     "title": "Tuple Modification Error Demonstration"
    }
   },
   "outputs": [],
   "source": [
    "'''\n",
    "Attempt to add an element to the tuple (will raise an error)\n",
    "my_tuple[0] = 30  # Uncommenting this line will raise a TypeError\n",
    "'''\n",
    "#my_tuple.add(40)\n",
    "#print(\"Tuple after adding element\",my_tuple)\n",
    "\n",
    "#my_tuple.remove(20)\n",
    "'''\n",
    "to remove value from Tuple , convert ti list and then convert back to tuple\n",
    "'''\n",
    "my_tuple = list(my_tuple); my_tuple.remove(20); my_tuple = tuple(my_tuple)\n",
    "print(\"Tuple after removing element\",my_tuple)"
   ]
  },
  {
   "cell_type": "code",
   "execution_count": 0,
   "metadata": {
    "application/vnd.databricks.v1+cell": {
     "cellMetadata": {
      "byteLimit": 2048000,
      "rowLimit": 10000
     },
     "inputWidgets": {},
     "nuid": "d96bdb7a-1bf5-4674-9b35-7754ad741c74",
     "showTitle": true,
     "tableResultSettingsMap": {},
     "title": "Iterate and Print Set Elements"
    }
   },
   "outputs": [],
   "source": [
    "'''\n",
    "Accessing elements\n",
    "Set (cannot access by index)\n",
    "'''\n",
    "for value in my_set:\n",
    "    print(value)\n",
    "\n",
    "print(\"\\n\")\n",
    "# Tuple (can access by index)\n",
    "print(\"First element of tuple:\", my_tuple[0])"
   ]
  },
  {
   "cell_type": "code",
   "execution_count": 0,
   "metadata": {
    "application/vnd.databricks.v1+cell": {
     "cellMetadata": {
      "byteLimit": 2048000,
      "rowLimit": 10000
     },
     "inputWidgets": {},
     "nuid": "cf2be001-3f94-49d9-8be5-9be6634b4254",
     "showTitle": true,
     "tableResultSettingsMap": {},
     "title": "Unordered Collection in Python"
    }
   },
   "outputs": [],
   "source": [
    "'''\n",
    "Sets in Python are unordered collections, meaning that the elements do not have a defined order. \n",
    "When you print a set or iterate over its elements, the order in which the elements appear can be different from the order in which they were added. This is because sets are implemented using hash tables, which do not maintain any order.\n",
    "'''\n",
    "my_set={10,20,30,60,0.5,\"Siri\"}\n",
    "print(type(my_set))\n",
    "print(my_set)\n",
    "print(\"\\n\")\n",
    "\n",
    "#convert set to list\n",
    "set_list=list(my_set)\n",
    "print(type(set_list))\n",
    "print(set_list)\n",
    "print(\"\\n\")\n",
    "\n",
    "\n",
    "#sort the list\n",
    "# Imp : Note that sorting mixed data types (e.g., integers and strings) may require a custom sorting key, such as key=str, to avoid errors.\n",
    "#set_list.sort() # this will throw error\n",
    "set_list.sort(key=str)# Using key=str to handle mixed data types\n",
    "print(\"Sorted list:\", set_list) # Print the sorted list"
   ]
  },
  {
   "cell_type": "markdown",
   "metadata": {
    "application/vnd.databricks.v1+cell": {
     "cellMetadata": {
      "byteLimit": 2048000,
      "rowLimit": 10000
     },
     "inputWidgets": {},
     "nuid": "55e29946-247c-4965-bb5f-2d55180d9295",
     "showTitle": false,
     "tableResultSettingsMap": {},
     "title": ""
    }
   },
   "source": [
    "> ### More detailed example of Lists[], Sets{}, tuple()"
   ]
  },
  {
   "cell_type": "code",
   "execution_count": 0,
   "metadata": {
    "application/vnd.databricks.v1+cell": {
     "cellMetadata": {
      "byteLimit": 2048000,
      "rowLimit": 10000
     },
     "inputWidgets": {},
     "nuid": "11d6d8e8-2011-427f-b53a-01d51f0c7681",
     "showTitle": true,
     "tableResultSettingsMap": {},
     "title": "Characteristics of Python Lists"
    }
   },
   "outputs": [],
   "source": [
    "'''\n",
    "Lists []\n",
    "Mutable: You can change, add, or remove elements.\n",
    "Ordered: Elements have a defined order, and you can access elements by index.\n",
    "Allows Duplicates: Can contain duplicate elements.\n",
    "'''\n",
    "#Define List\n",
    "my_list = [10,20,30,40,10,'Mango',10.3,0.001]\n",
    "print(type(my_list))\n",
    "print(\"---------------------\")\n",
    "\n",
    "#Access element by index\n",
    "print(\"first element\",my_list[0])\n",
    "print(\"sixth element\",my_list[5])\n",
    "print(\"---------------------\")\n",
    "\n",
    "#modify the list\n",
    "my_list[0]=100\n",
    "my_list[5]='Apple'\n",
    "print(my_list)\n",
    "print(\"---------------------\")\n",
    "\n",
    "#add an element in list\n",
    "#my_list.add(39) #this will throw error\n",
    "my_list.append(39)\n",
    "print(my_list)\n",
    "\n",
    "# Remove an element\n",
    "my_list.remove(10)\n",
    "print(\"List after removing an element:\", my_list)"
   ]
  },
  {
   "cell_type": "code",
   "execution_count": 0,
   "metadata": {
    "application/vnd.databricks.v1+cell": {
     "cellMetadata": {
      "byteLimit": 2048000,
      "rowLimit": 10000
     },
     "inputWidgets": {},
     "nuid": "63cab102-8205-4d37-bdd6-a747f8a2e00c",
     "showTitle": true,
     "tableResultSettingsMap": {},
     "title": "Characteristics of Python Sets"
    }
   },
   "outputs": [],
   "source": [
    "'''\n",
    "Sets {}\n",
    "Mutable: You can add or remove elements.\n",
    "Unordered: Elements do not have a defined order, and you cannot access elements by index.\n",
    "No Duplicates: Cannot contain duplicate elements.\n",
    "'''\n",
    "my_set={10,20,30,40,10,'Mango',10.3,0.001}# Duplicate '10' will be removed\n",
    "print(type(my_set))\n",
    "print(\"set :\" , my_set)\n",
    "\n",
    "# Add an element\n",
    "my_set.add(39)\n",
    "print(\"set :\" , my_set)\n",
    "\n",
    "#Remove an element\n",
    "my_set.remove(40)\n",
    "print(\"set :\" , my_set)\n",
    "\n",
    "# Iterate over set elements\n",
    "for value in my_set:\n",
    "    print(value)\n"
   ]
  },
  {
   "cell_type": "code",
   "execution_count": 0,
   "metadata": {
    "application/vnd.databricks.v1+cell": {
     "cellMetadata": {
      "byteLimit": 2048000,
      "rowLimit": 10000
     },
     "inputWidgets": {},
     "nuid": "c74314f5-3bdb-4df6-9787-8020a4bac65f",
     "showTitle": true,
     "tableResultSettingsMap": {},
     "title": "Tuple Characteristics and Properties Overview"
    }
   },
   "outputs": [],
   "source": [
    "'''\n",
    "Tuples\n",
    "Immutable: You cannot change, add, or remove elements after the tuple is created.\n",
    "Ordered: Elements have a defined order, and you can access elements by index.\n",
    "Allows Duplicates: Can contain duplicate elements.\n",
    "'''\n",
    "my_tuple=(10,20,30,40,10,'Mango',10.3,0.001)\n",
    "print(type(my_tuple))\n",
    "print(\"tuple :\", my_tuple)\n",
    "\n",
    "#access tuple by index\n",
    "print(\"first element :\", my_tuple[0])\n",
    "print(\"sixth element :\", my_tuple[5])\n"
   ]
  },
  {
   "cell_type": "code",
   "execution_count": 0,
   "metadata": {
    "application/vnd.databricks.v1+cell": {
     "cellMetadata": {
      "byteLimit": 2048000,
      "rowLimit": 10000
     },
     "inputWidgets": {},
     "nuid": "21db43a7-a9d2-4e0e-9f0d-3d33dfcbb3b0",
     "showTitle": true,
     "tableResultSettingsMap": {},
     "title": "frozenset : Immutable Set Example and Error Handling"
    }
   },
   "outputs": [],
   "source": [
    "'''\n",
    "frozenset\n",
    "A frozenset is an immutable version of a Python set. Unlike regular sets, you cannot modify a frozenset after it is created, meaning you cannot add or remove elements. \n",
    "However, it retains the properties of a set, such as being unordered and not allowing duplicate elements.\n",
    "'''\n",
    "\n",
    "set2=frozenset({10,20,30,40,10,'Mango',10.3,0.001})\n",
    "print(type(set2))\n",
    "print(set2)\n",
    "print(\"\\n\")\n",
    "\n",
    "# Attempting to add or remove elements will raise an error\n",
    "try:\n",
    "    set2.add(64)\n",
    "except AttributeError as e:\n",
    "    print(e)\n",
    "try:\n",
    "    set2.remove(30)\n",
    "except AttributeError as e:\n",
    "    print(e)\n",
    "\n",
    "print(\"\\n\")\n",
    "\n",
    "# You can perform set operations like union, intersection, and difference\n",
    "set3=frozenset({'Apple','Banana','Orange','Mango',30,10})\n",
    "print(set2.union(set3))\n",
    "print(set2.intersection(set3))\n",
    "print(set2.difference(set3))\n"
   ]
  },
  {
   "cell_type": "markdown",
   "metadata": {
    "application/vnd.databricks.v1+cell": {
     "cellMetadata": {},
     "inputWidgets": {},
     "nuid": "1fa017ea-9b12-47e5-bcb2-94ae5dd3c15c",
     "showTitle": false,
     "tableResultSettingsMap": {},
     "title": ""
    }
   },
   "source": [
    "> ### **13-Aug-2025 Tuples and Dictionaries in Python**"
   ]
  },
  {
   "cell_type": "code",
   "execution_count": 0,
   "metadata": {
    "application/vnd.databricks.v1+cell": {
     "cellMetadata": {
      "byteLimit": 2048000,
      "rowLimit": 10000
     },
     "inputWidgets": {},
     "nuid": "472a75c5-a595-48ac-a55f-ec92b2951db4",
     "showTitle": true,
     "tableResultSettingsMap": {},
     "title": "Integers, Mixed Types, and Nesting"
    }
   },
   "outputs": [],
   "source": [
    "# Demonstrating tuple creation and unpacking in Python\n",
    "\n",
    "# Create a tuple of integers\n",
    "tuple1 = (1, 2, 3, 4)\n",
    "print(\"Tuple of integers :\", tuple1)\n",
    "\n",
    "# Create a tuple with mixed data types (string, integer, float)\n",
    "tuple2 = ('Radha', 87, 'krishna', 89.9)\n",
    "print(\"Tuple of mixed data types :\", tuple2)\n",
    "\n",
    "# Create a tuple containing a list as one of its elements\n",
    "tuple3 = (10, 20, 30, [40, 50])\n",
    "print(\"Tuple containing a list :\", tuple3)\n",
    "\n",
    "# Create a nested tuple (tuple within a tuple)\n",
    "tuple4 = (1, 2, 3, (10, 20))\n",
    "print(\"Nested tuple :\", tuple4)\n",
    "\n",
    "# Tuple unpacking: assign each element of the tuple to a variable\n",
    "packed_tuple = (1, 2, 3)\n",
    "a, b, c = packed_tuple\n",
    "print(\"Unpacking tuple :\", a, b, c)\n",
    "print(\"a:\", a)\n",
    "print(\"b:\", b)\n",
    "print(\"c:\", c)"
   ]
  },
  {
   "cell_type": "code",
   "execution_count": 0,
   "metadata": {
    "application/vnd.databricks.v1+cell": {
     "cellMetadata": {
      "byteLimit": 2048000,
      "rowLimit": 10000
     },
     "inputWidgets": {},
     "nuid": "34c4f5d4-65f0-4d71-abe5-febbb7adca99",
     "showTitle": true,
     "tableResultSettingsMap": {},
     "title": "Tuple Definition and Type Checking Example"
    }
   },
   "outputs": [],
   "source": [
    "# Defining a variable with parentheses but without a comma creates an integer, not a tuple\n",
    "tuple5 = (20)\n",
    "print(tuple5)           # Prints the integer value 20\n",
    "print(type(tuple5))     # Prints <class 'int'>, showing it's not a tuple\n",
    "\n",
    "# Defining a tuple with a single element requires a trailing comma\n",
    "tuple5 = (20,)\n",
    "print(tuple5)           # Prints the tuple (20,)\n",
    "print(type(tuple5))     # Prints <class 'tuple'>, confirming it's a tuple"
   ]
  },
  {
   "cell_type": "code",
   "execution_count": 0,
   "metadata": {
    "application/vnd.databricks.v1+cell": {
     "cellMetadata": {
      "byteLimit": 2048000,
      "rowLimit": 10000
     },
     "inputWidgets": {},
     "nuid": "0c7179d2-d4d0-4141-9649-302726ac3bac",
     "showTitle": true,
     "tableResultSettingsMap": {},
     "title": "Access and Slice Tuple Elements"
    }
   },
   "outputs": [],
   "source": [
    "# Accessing Elements in a Tuple\n",
    "\n",
    "tuple1 = (1, 2, 3, 4)\n",
    "\n",
    "# Access the first element using index 0\n",
    "print(\"First element:\", tuple1[0])\n",
    "\n",
    "# Access the last element using negative index -1\n",
    "print(\"Last element:\", tuple1[-1])\n",
    "\n",
    "# Access elements from index 1 up to (but not including) index 4\n",
    "print(\"Elements from index 1 to 3:\", tuple1[1:4])\n",
    "\n",
    "# Access elements from the start up to (but not including) index 3\n",
    "print(\"Elements from index 0 to 2:\", tuple1[:3])\n",
    "\n",
    "# Access elements from index 2 to the end of the tuple\n",
    "print(\"Elements from index 2 to end:\", tuple1[2:])\n",
    "\n",
    "# Access all elements in the tuple\n",
    "print(\"Elements from index 0 to end:\", tuple1[:])\n",
    "\n",
    "# The following line would raise an IndexError, so it is commented out\n",
    "# print(tuple1[1+4])"
   ]
  },
  {
   "cell_type": "code",
   "execution_count": 0,
   "metadata": {
    "application/vnd.databricks.v1+cell": {
     "cellMetadata": {
      "byteLimit": 2048000,
      "rowLimit": 10000
     },
     "inputWidgets": {},
     "nuid": "6324a747-ff5a-4e8e-b1c0-9fa086aaa55b",
     "showTitle": true,
     "tableResultSettingsMap": {},
     "title": "Modify Tuple Contents and Print"
    }
   },
   "outputs": [],
   "source": [
    "# Demonstrate tuple immutability\n",
    "tuple1 = (1, 2, 3, 4, 5)\n",
    "# Attempting to modify an element of the tuple will raise an error\n",
    "# tuple1[4] = 10  # Uncommenting this line will result in a TypeError\n",
    "\n",
    "# Create a tuple containing a mutable list as one of its elements\n",
    "tuple2 = (1, 2, 3, [8, 9])\n",
    "# Modify an element inside the mutable list within the tuple\n",
    "tuple2[3][1] = 10  # This is allowed because the list itself is mutable\n",
    "# Print the modified tuple to show the change in the list element\n",
    "print(tuple2)"
   ]
  },
  {
   "cell_type": "code",
   "execution_count": 0,
   "metadata": {
    "application/vnd.databricks.v1+cell": {
     "cellMetadata": {
      "byteLimit": 2048000,
      "rowLimit": 10000
     },
     "inputWidgets": {},
     "nuid": "95bc2135-ebe8-40fc-b7e9-cb03f727acfc",
     "showTitle": true,
     "tableResultSettingsMap": {},
     "title": "Perform Operations on Tuples and Print Results"
    }
   },
   "outputs": [],
   "source": [
    "# Tuple Operations\n",
    "\n",
    "# Create two tuples and concatenate them using the + operator\n",
    "# This combines all elements from both tuples into a new tuple\n",
    "tuple1 = (1, 2, 3, 4, 5)\n",
    "tuple2 = (6, 7, 8, 9, 10)\n",
    "print(tuple1 + tuple2)  # Output: (1, 2, 3, 4, 5, 6, 7, 8, 9, 10)\n",
    "\n",
    "# Concatenate two tuples containing strings to form a longer tuple\n",
    "# Useful for joining sequences of words or phrases\n",
    "tuple3 = ('But', 'I', 'have', 'promises', 'to', 'keep')\n",
    "tuple4 = ('and', 'miles', 'to', 'go', 'before', 'I', 'sleep')\n",
    "tuple5 = tuple3 + tuple4\n",
    "print(tuple5)  # Output: ('But', 'I', 'have', 'promises', 'to', 'keep', 'and', 'miles', 'to', 'go', 'before', 'I', 'sleep')\n",
    "\n",
    "# Add elements to a tuple by concatenating with another tuple\n",
    "# Since tuples are immutable, this creates a new tuple with the added elements\n",
    "tuple6 = (1, 2, 3, 4, 5)\n",
    "tuple6 = tuple6 + (6,)  # Adding a single element; note the comma to define a single-element tuple\n",
    "print(tuple6)  # Output: (1, 2, 3, 4, 5, 6)\n",
    "tuple6 = tuple6 + (7, 6, 9)  # Adding multiple elements at once\n",
    "print(tuple6)  # Output: (1, 2, 3, 4, 5, 6, 7, 6, 9)"
   ]
  },
  {
   "cell_type": "code",
   "execution_count": 0,
   "metadata": {
    "application/vnd.databricks.v1+cell": {
     "cellMetadata": {
      "byteLimit": 2048000,
      "rowLimit": 10000
     },
     "inputWidgets": {},
     "nuid": "0712ceb0-2f09-4f9f-91d1-cc4a56c871d8",
     "showTitle": true,
     "tableResultSettingsMap": {},
     "title": "Tuple Operations and Type Checking"
    }
   },
   "outputs": [],
   "source": [
    "# Create a tuple with two string elements\n",
    "tuple1 = ('Sita', 'Rama')\n",
    "# Repeat the tuple three times and print the result\n",
    "print(tuple1 * 3)\n",
    "# Print the type of tuple1 to confirm it's a tuple\n",
    "print(type(tuple1))\n",
    "\n",
    "# Create a single-element tuple\n",
    "tuple2 = ('Radhe',)\n",
    "# Repeat the single-element tuple three times and print the result\n",
    "print(tuple2 * 3)\n",
    "# Print the type of tuple2 to confirm it's a tuple\n",
    "print(type(tuple2))\n",
    "\n",
    "# Create a tuple with three color strings\n",
    "tuple1 = ('red', 'blue', 'green')\n",
    "# Check if 'green' is present in tuple1 and print the result\n",
    "print('green' in tuple1)\n",
    "\n",
    "# Re-create the same tuple\n",
    "tuple1 = ('red', 'blue', 'green')\n",
    "# Check if 'green' is not present in tuple1 and print the result\n",
    "print('green' not in tuple1)"
   ]
  },
  {
   "cell_type": "code",
   "execution_count": 0,
   "metadata": {
    "application/vnd.databricks.v1+cell": {
     "cellMetadata": {},
     "inputWidgets": {},
     "nuid": "6da57237-1841-4067-8e93-182485f94193",
     "showTitle": false,
     "tableResultSettingsMap": {},
     "title": ""
    }
   },
   "outputs": [],
   "source": []
  },
  {
   "cell_type": "code",
   "execution_count": 0,
   "metadata": {
    "application/vnd.databricks.v1+cell": {
     "cellMetadata": {
      "byteLimit": 2048000,
      "rowLimit": 10000
     },
     "inputWidgets": {},
     "nuid": "611dbdc2-10b5-48ba-adf2-cedbdf6555dc",
     "showTitle": true,
     "tableResultSettingsMap": {},
     "title": "Tuple Slicing Techniques and Print Statements"
    }
   },
   "outputs": [],
   "source": [
    "# Slicing\n",
    "tuple1 = (10, 20, 30, 40, 50, 60, 70, 80)\n",
    "\n",
    "# Prints elements from index 2 to 6 (30, 40, 50, 60, 70)\n",
    "print(tuple1[2:7])\n",
    "\n",
    "# Prints all elements in the tuple\n",
    "print(tuple1[0:len(tuple1)])\n",
    "\n",
    "# Prints elements from start to index 4 (10, 20, 30, 40, 50)\n",
    "print(tuple1[:5])\n",
    "\n",
    "# Prints elements from index 5 to end (60, 70, 80)\n",
    "print(tuple1[5:])\n",
    "\n",
    "# Prints the entire tuple\n",
    "print(tuple1[:])\n",
    "\n",
    "# Prints every second element (10, 30, 50, 70)\n",
    "print(tuple1[::2])\n",
    "\n",
    "# Prints elements from index -6 to -4 (20, 30)\n",
    "print(tuple1[-6:-4])"
   ]
  },
  {
   "cell_type": "code",
   "execution_count": 0,
   "metadata": {
    "application/vnd.databricks.v1+cell": {
     "cellMetadata": {
      "byteLimit": 2048000,
      "rowLimit": 10000
     },
     "inputWidgets": {},
     "nuid": "ad0a824d-7818-425e-a6da-7e72902f3e63",
     "showTitle": true,
     "tableResultSettingsMap": {},
     "title": "Using Built-In Tuple Methods for Various Operations"
    }
   },
   "outputs": [],
   "source": [
    "#Built-in tuple methods\n",
    "tuple1 = (1, 2, 3, 4, 5, 6, 7, 8, 9, 10)\n",
    "print(len(tuple1))\n",
    "\n",
    "tuple1=tuple()\n",
    "print(tuple1)\n",
    "\n",
    "# Create a tuple from a string using the tuple() constructor\n",
    "# The tuple() function takes an iterable (in this case, a string 'aeiou')\n",
    "# and returns a tuple where each character of the string becomes an element of the tuple.\n",
    "tuple1 = tuple('aeiou')  # Results in ('a', 'e', 'i', 'o', 'u')\n",
    "print(tuple1)  # Print the tuple to show its contents\n",
    "\n",
    "# Create a tuple from a list using the tuple() constructor\n",
    "tuple2 = tuple([1, 2, 3])\n",
    "print(tuple2)  # Output: (1, 2, 3)\n",
    "\n",
    "# Create a tuple from a range object using the tuple() constructor\n",
    "tuple3 = tuple(range(5))\n",
    "print(tuple3)  # Output: (0, 1, 2, 3, 4)\n",
    "\n",
    "# Create a tuple with integer elements\n",
    "tuple1 = (10, 20, 30, 40, 50)\n",
    "\n",
    "# Count the number of times 10 appears in the tuple\n",
    "print(tuple1.count(10))  # Output: 1\n",
    "\n",
    "# Count the number of times 90 appears in the tuple (should be 0)\n",
    "print(tuple1.count(90))  # Output: 0\n",
    "\n",
    "# Find the index of the first occurrence of 10 in the tuple\n",
    "print(tuple1.index(10))\n",
    "#print(tuple1.index(100))\n",
    "\n",
    "# Create a tuple of strings\n",
    "tuple1 = ('brave', 'can', 'change', 'the', 'world', 'completly')\n",
    "# Print the sorted list of tuple elements (sorted alphabetically)\n",
    "print(sorted(tuple1))\n",
    "\n",
    "# Create a tuple of integers\n",
    "tuple1 = (10, 20, 30, 40, 50)\n",
    "# Print the minimum value in the tuple\n",
    "print(min(tuple1))\n",
    "# Print the maximum value in the tuple\n",
    "print(max(tuple1))\n",
    "# Print the sum of all elements in the tuple\n",
    "print(sum(tuple1))"
   ]
  },
  {
   "cell_type": "code",
   "execution_count": 0,
   "metadata": {
    "application/vnd.databricks.v1+cell": {
     "cellMetadata": {
      "byteLimit": 2048000,
      "rowLimit": 10000
     },
     "inputWidgets": {},
     "nuid": "85e7f7a4-0d29-452a-b3ab-c23606901702",
     "showTitle": true,
     "tableResultSettingsMap": {},
     "title": "Tuple Assignment and Element Extraction"
    }
   },
   "outputs": [],
   "source": [
    "# Tuple assignment: unpacking values from a tuple into variables\n",
    "(num1, num2) = (10, 20)\n",
    "print(num1)  # Output: 10\n",
    "print(num2)  # Output: 20\n",
    "\n",
    "# Unpacking a tuple representing a record into separate variables\n",
    "record = ('Baba', 100, 'CS')\n",
    "(name, marks, subject) = record\n",
    "print(name)    # Output: 'Baba'\n",
    "print(marks)   # Output: 100\n",
    "print(subject) # Output: 'CS'\n",
    "\n",
    "# Tuple assignment with expressions\n",
    "(num3, num4) = (10 + 8, 20 + 9)\n",
    "print(num3)  # Output: 18\n",
    "print(num4)  # Output: 29\n",
    "\n",
    "# Unpacking three values from a tuple into variables\n",
    "(a, b, c) = (2, 5, 7)\n",
    "print(a)  # Output: 2\n",
    "print(b)  # Output: 5\n",
    "print(c)  # Output: 7"
   ]
  },
  {
   "cell_type": "code",
   "execution_count": 0,
   "metadata": {
    "application/vnd.databricks.v1+cell": {
     "cellMetadata": {
      "byteLimit": 2048000,
      "rowLimit": 10000
     },
     "inputWidgets": {},
     "nuid": "6c8ba081-ed7d-4e9c-a558-d3166306f09a",
     "showTitle": true,
     "tableResultSettingsMap": {},
     "title": "Store and Display Student Records"
    }
   },
   "outputs": [],
   "source": [
    "#store records of students\n",
    "student=((101,\"Sandeep\",98),(102,\"Ravi\",99),(103,\"Rajesh\",97))\n",
    "\n",
    "print(\"S_No\\t\",\"Roll_No\",\"Name\\t\",\"Marks\")\n",
    "\n",
    "for i in range(len(student)):\n",
    "    print(i+1,\"\\t\",student[i][0],\"\\t\",student[i][1],\"\\t\",student[i][2])"
   ]
  },
  {
   "cell_type": "code",
   "execution_count": 0,
   "metadata": {
    "application/vnd.databricks.v1+cell": {
     "cellMetadata": {
      "byteLimit": 2048000,
      "rowLimit": 10000
     },
     "inputWidgets": {},
     "nuid": "1988d720-99d0-4cd3-b7e2-591e5df96490",
     "showTitle": true,
     "tableResultSettingsMap": {},
     "title": "Swap and Display Two Numbers Program"
    }
   },
   "outputs": [],
   "source": [
    "# Program to swap two numbers using tuple assignment\n",
    "\n",
    "# Prompt the user to enter the first number and convert it to an integer\n",
    "num1 = int(input(\"Enter first number: \"))\n",
    "\n",
    "# Prompt the user to enter the second number and convert it to an integer\n",
    "num2 = int(input(\"Enter second number: \"))\n",
    "\n",
    "# Print the numbers before swapping\n",
    "print(\"\\nNumbers before swapping: \")\n",
    "print(\"First number: \", num1)\n",
    "print(\"Second number: \", num2)\n",
    "\n",
    "# Swap the values of num1 and num2 using tuple unpacking\n",
    "(num1, num2) = (num2, num1)\n",
    "\n",
    "# Print the numbers after swapping\n",
    "print(\"\\nNumbers after swapping: \")\n",
    "print(\"First number: \", num1)\n",
    "print(\"Second number: \", num2)"
   ]
  },
  {
   "cell_type": "code",
   "execution_count": 0,
   "metadata": {
    "application/vnd.databricks.v1+cell": {
     "cellMetadata": {
      "byteLimit": 2048000,
      "rowLimit": 10000
     },
     "inputWidgets": {},
     "nuid": "ce107afe-6a01-4420-860d-ce75ccdcf724",
     "showTitle": true,
     "tableResultSettingsMap": {},
     "title": "Calculate Circle Area and Circumference"
    }
   },
   "outputs": [],
   "source": [
    "# compute area and circumference of a circle\n",
    "def circle(r):\n",
    "    area = 3.14 * r * r\n",
    "    circumference = 2 * 3.14 * r\n",
    "    return (area, circumference)\n",
    "\n",
    "radius = int(input(\"Enter the radius of the circle: \"))  # get radius\n",
    "area, circumference = circle(radius)\n",
    "print(\"Area of the circle is: \", area)\n",
    "print(\"Circumference of the circle is: \", circumference)"
   ]
  },
  {
   "cell_type": "code",
   "execution_count": 0,
   "metadata": {
    "application/vnd.databricks.v1+cell": {
     "cellMetadata": {
      "byteLimit": 2048000,
      "rowLimit": 10000
     },
     "inputWidgets": {},
     "nuid": "b4bbd3e8-b2ee-4841-a631-40f853380b21",
     "showTitle": true,
     "tableResultSettingsMap": {},
     "title": "Input Numbers and Display Maximum and Minimum Values"
    }
   },
   "outputs": [],
   "source": [
    "# Program to input n numbers from user. Print max and min\n",
    "numbers=tuple()\n",
    "n=int(input(\"how many numbers you want to enter:\")) \n",
    "for i in range(0,n):\n",
    "    num=int(input())\n",
    "    numbers=numbers+(num,)\n",
    "\n",
    "print(\"\\n the numbers in the tuple are:\",numbers)\n",
    "print(\"\\n the maximum number is:\",max(numbers))\n",
    "print(\"\\n the minimum number is:\",min(numbers))"
   ]
  }
 ],
 "metadata": {
  "application/vnd.databricks.v1+notebook": {
   "computePreferences": {
    "hardware": {
     "accelerator": null,
     "gpuPoolId": null,
     "memory": null
    }
   },
   "dashboards": [],
   "environmentMetadata": {
    "base_environment": "",
    "environment_version": "3"
   },
   "inputWidgetPreferences": null,
   "language": "python",
   "notebookMetadata": {
    "pythonIndentUnit": 4
   },
   "notebookName": "Python_Class_08042025",
   "widgets": {}
  },
  "language_info": {
   "name": "python"
  }
 },
 "nbformat": 4,
 "nbformat_minor": 0
}
